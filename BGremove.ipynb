#!/usr/bin/env python
# coding: utf-8

# In[287]:


import re 
import os,sys
import win32clipboard as wc
import numpy as np
from PIL import Image


# In[288]:


#函数两种颜色替换为白色


# In[289]:


def treat(arry,name,row,col,r1,g1,b1,r2,g2,b2):
    for i in range(row):
        for j in range(col):
            if im[i][j][0]==r1:
                if im[i][j][1]==g1:
                    if im[i][j][2]==b1:
                        im[i][j]=[255,255,255,255]
            if im[i][j][0]==r2:
                if im[i][j][1]==g2:
                    if im[i][j][2]==b2:
                        im[i][j]=[255,255,255,255]    
    return im


# In[290]:


#获取文件名称


# In[291]:


def getfilelist(path):
    name = (x for x in os.listdir(path) if os.path.isfile(x))
    return name


# In[292]:


#更改当前目录并依次处理、另存图片


# In[293]:


path="C:/Users/daniel.xu/Desktop/海伦画面截图"
os.chdir(path)
name=getfilelist(path)
count=1
for item in name:
    print(item)
    im = Image.open(item)
    pic_array = np.array(im)
    print(pic_array.shape)
    row,col,cel=pic_array.shape
    im = np.array(im)
    oarry=treat(im,name,row,col,192,192,192,212,208,200)
    om = Image.fromarray(oarry)   
    om.save("new"+item)
